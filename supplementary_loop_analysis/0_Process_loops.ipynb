{
 "cells": [
  {
   "cell_type": "code",
   "execution_count": 1,
   "id": "6725dcc0-5a63-4f72-82c2-67246dd6da96",
   "metadata": {},
   "outputs": [],
   "source": [
    "import sys\n",
    "sys.path.append('./code/')\n",
    "from process_loops import *\n",
    "from make_droso_figures import *\n",
    "\n",
    "def make_anc_int(anc):\n",
    "    return anc[0], int(anc[1]), int(anc[2])\n",
    "\n"
   ]
  },
  {
   "cell_type": "code",
   "execution_count": 4,
   "id": "191063e7-f80c-4a56-9007-44173405ad55",
   "metadata": {},
   "outputs": [],
   "source": [
    "import cooler\n",
    "cool_merged_800 = cooler.Cooler('./cools/DOWNSAMPLED_merged_all_800.cool')"
   ]
  },
  {
   "cell_type": "markdown",
   "id": "7ad3fb2a-bb50-4e70-9f33-90c447c19fde",
   "metadata": {},
   "source": [
    "Import  expected table"
   ]
  },
  {
   "cell_type": "code",
   "execution_count": 11,
   "id": "22d2cccd-0e49-4c7f-b7fe-4b8de5781b77",
   "metadata": {},
   "outputs": [],
   "source": [
    "import pandas as pd\n",
    "merged_expected = pd.read_csv(f'./obs_exp/expected/expected_DOWNSAMPLED_merged_all_800.cool.tsv', sep='\\t')\n",
    "merged_expected['region'] = merged_expected['region'].apply(lambda x: str(x))\n",
    "\n",
    "expected_dict = {\n",
    "    'merged' : merged_expected,\n",
    "}"
   ]
  },
  {
   "cell_type": "markdown",
   "id": "0d01397c-598a-45ff-9391-b58a94046ee0",
   "metadata": {},
   "source": [
    "Load mustache loops"
   ]
  },
  {
   "cell_type": "code",
   "execution_count": 13,
   "id": "d8940ad9-1282-4a7b-a33f-a5ac694b4c3c",
   "metadata": {},
   "outputs": [
    {
     "name": "stderr",
     "output_type": "stream",
     "text": [
      "/Genomics/pritykinlab/gabe/nc14/jupys/FINAL_CODE/./code/process_loops.py:375: FutureWarning: Calling float on a single element Series is deprecated and will raise a TypeError in the future. Use float(ser.iloc[0]) instead\n",
      "  expected[diags==val] = float(row['balanced.avg'])\n"
     ]
    }
   ],
   "source": [
    "loop_directory = './loop_calling/mustache_output/'\n",
    "loop_filename = 'out_merged_DOWNSAMPLE.tsv'\n",
    "\n",
    "loose_anchors, loose_loops1 = process_loops(loop_directory, loop_filename, cool_merged_800, \n",
    "                                            expected_dict['merged'], 800, merge_wsz=4, center_wsz=6)\n"
   ]
  },
  {
   "cell_type": "markdown",
   "id": "5c35528f-99db-4fe6-97d5-b82e2e881588",
   "metadata": {},
   "source": [
    "Load expected tables for each condition"
   ]
  },
  {
   "cell_type": "code",
   "execution_count": 18,
   "id": "4a0adf3c-4a41-40f9-befb-ce0f44220070",
   "metadata": {},
   "outputs": [],
   "source": [
    "res=800\n",
    "cool_nc18 = cooler.Cooler(f'./cools/nc1-8_1_1+1_2+2_1+2_2.base_resolution=100.mcool::/resolutions/{res}')\n",
    "cool_nc14 = cooler.Cooler(f'./cools/nc14_1_1+1_2+2_1+2_2.base_resolution=100.mcool::/resolutions/{res}')\n",
    "cool_s10 = cooler.Cooler(f'./cools/s10-12_1_1+1_2+2_1+2_2.base_resolution=100.mcool::/resolutions/{res}')\n",
    "\n",
    "cool_dict = {\n",
    "    'nc18' : cool_nc18,\n",
    "    'nc14' : cool_nc14,\n",
    "    's10' : cool_s10,\n",
    "}\n",
    "\n",
    "nc14_expected = pd.read_csv(f'obs_exp/expected/expected_nc14_1_1+1_2+2_1+2_2.base_resolution=100.mcool_800.tsv', sep='\\t')\n",
    "nc14_expected['region'] = nc14_expected['region'].apply(lambda x: str(x))\n",
    "\n",
    "nc18_expected = pd.read_csv(f'obs_exp/expected/expected_nc1-8_1_1+1_2+2_1+2_2.base_resolution=100.mcool_800.tsv', sep='\\t')\n",
    "nc18_expected['region'] = nc18_expected['region'].apply(lambda x: str(x))\n",
    "\n",
    "s10_expected = pd.read_csv(f'obs_exp/expected/expected_s10-12_1_1+1_2+2_1+2_2.base_resolution=100.mcool_800.tsv', sep='\\t')\n",
    "s10_expected['region'] = nc18_expected['region'].apply(lambda x: str(x))\n",
    "\n",
    "expected_dict = {\n",
    "    'nc18' : nc18_expected,\n",
    "    'nc14' : nc14_expected,\n",
    "    's10' : s10_expected,    \n",
    "}"
   ]
  },
  {
   "cell_type": "markdown",
   "id": "eb32c6b8-9c95-43a2-8c18-267d77e143ad",
   "metadata": {},
   "source": [
    "Confirm presence of mustache loops"
   ]
  },
  {
   "cell_type": "code",
   "execution_count": 21,
   "id": "d70b0092-6a0d-4d1b-b6d8-fa60627bfc7e",
   "metadata": {},
   "outputs": [
    {
     "name": "stdout",
     "output_type": "stream",
     "text": [
      "3\n"
     ]
    },
    {
     "name": "stderr",
     "output_type": "stream",
     "text": [
      "/Genomics/pritykinlab/gabe/nc14/jupys/FINAL_CODE/./code/make_droso_figures.py:463: FutureWarning: Calling float on a single element Series is deprecated and will raise a TypeError in the future. Use float(ser.iloc[0]) instead\n",
      "  expected[diags==val] = float(row['balanced.avg'])\n"
     ]
    },
    {
     "name": "stdout",
     "output_type": "stream",
     "text": [
      "dict_keys(['nc18', 'nc14', 's10']) 3\n"
     ]
    },
    {
     "data": {
      "image/png": "[encoded data removed]",
      "text/plain": [
       "<Figure size 900x300 with 6 Axes>"
      ]
     },
     "metadata": {},
     "output_type": "display_data"
    }
   ],
   "source": [
    "from make_droso_figures import *\n",
    "\n",
    "def make_anc_int(anc):\n",
    "    return anc[0], int(anc[1]), int(anc[2])\n",
    "\n",
    "loopset = set()\n",
    "for i in loose_loops1:\n",
    "    l1, l2 = make_anc_int(i[:3]), make_anc_int(i[3:6])\n",
    "    l1, l2 = map(tuple, [l1, l2])\n",
    "    loopset.add(tuple(i[:6]))\n",
    "\n",
    "test_apa = apa_noroll(loopset, cool_dict, expected_dict, wsz=20)\n",
    "f, bad = plot_apa(test_apa, badfunc=None)"
   ]
  },
  {
   "cell_type": "markdown",
   "id": "8e687ef0-743a-4b98-bd42-4774494f7c76",
   "metadata": {},
   "source": [
    "Any loops with an obs/exp of greater than 50 at multiple sites is filtered (it is likely artifactual)"
   ]
  },
  {
   "cell_type": "code",
   "execution_count": 23,
   "id": "74d45b79-f65c-4a34-a41e-166b824e81be",
   "metadata": {},
   "outputs": [],
   "source": [
    "badset = {tuple(x[0]) for c, x in enumerate(test_apa[-1]) if bad[c]==True}\n",
    "filt_loopset = set()\n",
    "for loop in loopset:\n",
    "    if loop in badset:\n",
    "        pass\n",
    "    else:\n",
    "        filt_loopset.add(loop)"
   ]
  },
  {
   "cell_type": "markdown",
   "id": "5a98a8d2-14ad-4ef8-a144-e4d9ae048f52",
   "metadata": {},
   "source": [
    "Final loopset is saved"
   ]
  },
  {
   "cell_type": "code",
   "execution_count": 25,
   "id": "dd559920-8941-4209-bbdb-ee8c0d6a8402",
   "metadata": {},
   "outputs": [],
   "source": [
    "vals = []\n",
    "for x in filt_loopset:\n",
    "    l1, l2 = x[:3], x[3:6]\n",
    "    vals.append(list(l1) + list(l2))\n",
    "df = pd.DataFrame(vals)\n",
    "df.columns = ['BIN1_CHR', 'BIN1_START', 'BIN1_END','BIN2_CHROMOSOME', 'BIN2_START', 'BIN2_END']\n",
    "df.to_csv('./loop_calling/final_loops/out.tsv', sep='\\t', header=True, index=None)\n",
    "\n",
    "loose_anchors, loose_loops = process_loops_without_moving('./loop_calling/final_loops/', extend_bins=1, res=800)"
   ]
  },
  {
   "cell_type": "code",
   "execution_count": null,
   "id": "f8ba405d-efc7-4d70-8766-f32c62c5a636",
   "metadata": {},
   "outputs": [],
   "source": []
  }
 ],
 "metadata": {
  "kernelspec": {
   "display_name": "Python 3 (ipykernel)",
   "language": "python",
   "name": "python3"
  },
  "language_info": {
   "codemirror_mode": {
    "name": "ipython",
    "version": 3
   },
   "file_extension": ".py",
   "mimetype": "text/x-python",
   "name": "python",
   "nbconvert_exporter": "python",
   "pygments_lexer": "ipython3",
   "version": "3.10.12"
  }
 },
 "nbformat": 4,
 "nbformat_minor": 5
}
